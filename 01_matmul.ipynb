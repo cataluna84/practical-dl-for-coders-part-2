{
  "cells": [
    {
      "cell_type": "markdown",
      "metadata": {
        "id": "view-in-github",
        "colab_type": "text"
      },
      "source": [
        "<a href=\"https://colab.research.google.com/github/cataluna84/practical-dl-for-coders-part-2/blob/main/01_matmul.ipynb\" target=\"_parent\"><img src=\"https://colab.research.google.com/assets/colab-badge.svg\" alt=\"Open In Colab\"/></a>"
      ]
    },
    {
      "cell_type": "markdown",
      "metadata": {
        "id": "_7oiSbUE-Gmr"
      },
      "source": [
        "## Matrix multiplication from foundations\n",
        "\n",
        "The *foundations* we'll assume throughout this course are:\n",
        "\n",
        "- Python\n",
        "- Python modules (non-DL)\n",
        "- pytorch indexable tensor, and tensor creation (including RNGs - random number generators)\n",
        "- fastai.datasets\n",
        "\n",
        "**Sujit:** The following notebook was consulted to adapt the material.\n",
        "\n",
        "* https://github.com/fastai/course22p2/blob/master/nbs/01_matmul.ipynb\n"
      ]
    },
    {
      "cell_type": "markdown",
      "metadata": {
        "id": "PdV8w47L-Gmt"
      },
      "source": [
        "## What is Matrix Multiplication?\n",
        "\n",
        "[Animation](https://www.geogebra.org/m/ETHXK756)\n",
        "\n",
        "## Imports"
      ]
    },
    {
      "cell_type": "code",
      "execution_count": null,
      "metadata": {
        "id": "68cSwDsb-Gmt"
      },
      "outputs": [],
      "source": [
        "%load_ext autoreload\n",
        "%autoreload 2\n",
        "\n",
        "%matplotlib inline"
      ]
    },
    {
      "cell_type": "code",
      "execution_count": null,
      "metadata": {
        "id": "16CecU5t-Gmx"
      },
      "outputs": [],
      "source": [
        "#export\n",
        "from pathlib import Path\n",
        "from IPython.core.debugger import set_trace\n",
        "from keras.datasets import mnist\n",
        "from urllib.request import urlretrieve\n",
        "\n",
        "import gzip\n",
        "import math\n",
        "import matplotlib as mpl\n",
        "import matplotlib.pyplot as plt\n",
        "import numpy as np\n",
        "import os\n",
        "import pickle\n",
        "import shutil\n",
        "import time\n",
        "import torch"
      ]
    },
    {
      "cell_type": "markdown",
      "source": [
        "## Import MNIST Dataset\n",
        "\n",
        "Implementation uses URLRetrieve -- [read the docs](https://docs.python.org/3/library/urllib.request.html#urllib.request.urlretrieve)"
      ],
      "metadata": {
        "id": "7gdDBTiw9Gkj"
      }
    },
    {
      "cell_type": "code",
      "source": [
        "MNIST_URL='https://github.com/mnielsen/neural-networks-and-deep-learning/blob/master/data/mnist.pkl.gz?raw=true'\n",
        "\n",
        "path_data = Path('data')\n",
        "path_data.mkdir(exist_ok=True)\n",
        "path_gz = path_data/'mnist.pkl.gz'\n",
        "\n",
        "if not path_gz.exists():\n",
        "  urlretrieve(MNIST_URL, path_gz)"
      ],
      "metadata": {
        "id": "l8k_0-cfJeR6"
      },
      "execution_count": null,
      "outputs": []
    },
    {
      "cell_type": "code",
      "source": [
        "!ls -l data"
      ],
      "metadata": {
        "colab": {
          "base_uri": "https://localhost:8080/"
        },
        "id": "ROFhL4s1KBSy",
        "outputId": "5296fac9-7683-4a35-b801-1d71c27accc1"
      },
      "execution_count": null,
      "outputs": [
        {
          "output_type": "stream",
          "name": "stdout",
          "text": [
            "total 16656\n",
            "-rw-r--r-- 1 root root 17051982 Jun 10 14:38 mnist.pkl.gz\n"
          ]
        }
      ]
    },
    {
      "cell_type": "code",
      "source": [
        "with gzip.open(path_gz, 'rb') as f:\n",
        "  ((x_train, y_train), (x_valid, y_valid), _) = pickle.load(f, encoding='latin-1')"
      ],
      "metadata": {
        "id": "6NTZBSaaKFgz"
      },
      "execution_count": null,
      "outputs": []
    },
    {
      "cell_type": "code",
      "source": [
        "len(x_train), len(y_train), len(x_valid), len(y_valid)"
      ],
      "metadata": {
        "colab": {
          "base_uri": "https://localhost:8080/"
        },
        "id": "AyAfDFoiKdxd",
        "outputId": "2503741f-e283-4613-a796-13eff180d91d"
      },
      "execution_count": null,
      "outputs": [
        {
          "output_type": "execute_result",
          "data": {
            "text/plain": [
              "(50000, 50000, 10000, 10000)"
            ]
          },
          "metadata": {},
          "execution_count": 6
        }
      ]
    },
    {
      "cell_type": "code",
      "source": [
        "type(x_train), type(y_train), type(x_valid), type(y_valid)"
      ],
      "metadata": {
        "colab": {
          "base_uri": "https://localhost:8080/"
        },
        "id": "spdZPO5wKTZU",
        "outputId": "2a01cc8f-c006-465d-bcb0-983d9a61648f"
      },
      "execution_count": null,
      "outputs": [
        {
          "output_type": "execute_result",
          "data": {
            "text/plain": [
              "(numpy.ndarray, numpy.ndarray, numpy.ndarray, numpy.ndarray)"
            ]
          },
          "metadata": {},
          "execution_count": 7
        }
      ]
    },
    {
      "cell_type": "code",
      "source": [
        "x_train.shape, y_train.shape, x_valid.shape, y_valid.shape"
      ],
      "metadata": {
        "colab": {
          "base_uri": "https://localhost:8080/"
        },
        "id": "mb0VGguGKhgZ",
        "outputId": "14bd0da1-1413-4617-ebed-3cb35dc72783"
      },
      "execution_count": null,
      "outputs": [
        {
          "output_type": "execute_result",
          "data": {
            "text/plain": [
              "((50000, 784), (50000,), (10000, 784), (10000,))"
            ]
          },
          "metadata": {},
          "execution_count": 8
        }
      ]
    },
    {
      "cell_type": "code",
      "source": [
        "lst1 = list(x_train[0])\n",
        "vals = lst1[200:210]\n",
        "vals"
      ],
      "metadata": {
        "colab": {
          "base_uri": "https://localhost:8080/"
        },
        "id": "v7F44pWgLMiK",
        "outputId": "40ce1cdf-dd3b-48ac-d98a-74d1b5b5a336"
      },
      "execution_count": null,
      "outputs": [
        {
          "output_type": "execute_result",
          "data": {
            "text/plain": [
              "[0.0,\n",
              " 0.0,\n",
              " 0.0,\n",
              " 0.19140625,\n",
              " 0.9296875,\n",
              " 0.98828125,\n",
              " 0.98828125,\n",
              " 0.98828125,\n",
              " 0.98828125,\n",
              " 0.98828125]"
            ]
          },
          "metadata": {},
          "execution_count": 9
        }
      ]
    },
    {
      "cell_type": "markdown",
      "source": [
        "### Sidebar: discussion of iter\n",
        "\n",
        "* [How to use Generators and yield in Python](https://realpython.com/introduction-to-python-generators/)"
      ],
      "metadata": {
        "id": "WR4_ZAUPL0rM"
      }
    },
    {
      "cell_type": "code",
      "source": [
        "def chunks(x, sz):\n",
        "    for i in range(0, len(x), sz):\n",
        "      yield x[i:i+sz]\n",
        "\n",
        "list(chunks(vals, 5))"
      ],
      "metadata": {
        "colab": {
          "base_uri": "https://localhost:8080/"
        },
        "id": "_t-T1381Lo19",
        "outputId": "7c99962d-42f5-444f-8520-a687f7d847c5"
      },
      "execution_count": null,
      "outputs": [
        {
          "output_type": "execute_result",
          "data": {
            "text/plain": [
              "[[0.0, 0.0, 0.0, 0.19140625, 0.9296875],\n",
              " [0.98828125, 0.98828125, 0.98828125, 0.98828125, 0.98828125]]"
            ]
          },
          "metadata": {},
          "execution_count": 11
        }
      ]
    },
    {
      "cell_type": "code",
      "source": [
        "mpl.rcParams['image.cmap'] = 'gray'\n",
        "plt.imshow(list(chunks(lst1, 28)));"
      ],
      "metadata": {
        "colab": {
          "base_uri": "https://localhost:8080/",
          "height": 430
        },
        "id": "hCxvzeI1MAbf",
        "outputId": "040cce81-22c9-4faf-dcd5-6c1567c07252"
      },
      "execution_count": null,
      "outputs": [
        {
          "output_type": "display_data",
          "data": {
            "text/plain": [
              "<Figure size 640x480 with 1 Axes>"
            ],
            "image/png": "[encoded data removed]"
          },
          "metadata": {}
        }
      ]
    },
    {
      "cell_type": "code",
      "source": [
        "from itertools import islice\n",
        "\n",
        "it = iter(vals)\n",
        "islice(it, 5)"
      ],
      "metadata": {
        "colab": {
          "base_uri": "https://localhost:8080/"
        },
        "id": "2qQ-mLFLMbkD",
        "outputId": "bfde07a7-67da-4fd3-9210-9690ee09e286"
      },
      "execution_count": null,
      "outputs": [
        {
          "output_type": "execute_result",
          "data": {
            "text/plain": [
              "<itertools.islice at 0x7f5605526a20>"
            ]
          },
          "metadata": {},
          "execution_count": 13
        }
      ]
    },
    {
      "cell_type": "code",
      "source": [
        "list(islice(it, 5))"
      ],
      "metadata": {
        "colab": {
          "base_uri": "https://localhost:8080/"
        },
        "id": "1RLcdE0fMlNB",
        "outputId": "05747c47-3365-4adf-b4e9-5ea821017dbe"
      },
      "execution_count": null,
      "outputs": [
        {
          "output_type": "execute_result",
          "data": {
            "text/plain": [
              "[0.0, 0.0, 0.0, 0.19140625, 0.9296875]"
            ]
          },
          "metadata": {},
          "execution_count": 14
        }
      ]
    },
    {
      "cell_type": "code",
      "source": [
        "list(islice(it, 5))"
      ],
      "metadata": {
        "colab": {
          "base_uri": "https://localhost:8080/"
        },
        "id": "cz9_Z-OdMrP5",
        "outputId": "e5955570-98b8-4494-be95-509ba9ca8cdf"
      },
      "execution_count": null,
      "outputs": [
        {
          "output_type": "execute_result",
          "data": {
            "text/plain": [
              "[0.98828125, 0.98828125, 0.98828125, 0.98828125, 0.98828125]"
            ]
          },
          "metadata": {},
          "execution_count": 15
        }
      ]
    },
    {
      "cell_type": "code",
      "source": [
        "list(islice(it, 5))"
      ],
      "metadata": {
        "colab": {
          "base_uri": "https://localhost:8080/"
        },
        "id": "43VUtm215ULs",
        "outputId": "1e0fee80-e7c7-4b99-e113-69dfe089265d"
      },
      "execution_count": null,
      "outputs": [
        {
          "output_type": "execute_result",
          "data": {
            "text/plain": [
              "[]"
            ]
          },
          "metadata": {},
          "execution_count": 16
        }
      ]
    },
    {
      "cell_type": "code",
      "source": [
        "it = iter(lst1)\n",
        "img = list(iter(lambda: list(islice(it, 28)), []))\n",
        "plt.imshow(img);"
      ],
      "metadata": {
        "colab": {
          "base_uri": "https://localhost:8080/",
          "height": 430
        },
        "id": "pRlmQTkQMvAG",
        "outputId": "e8e599cf-d076-4fea-ec06-49f4327a9895"
      },
      "execution_count": null,
      "outputs": [
        {
          "output_type": "display_data",
          "data": {
            "text/plain": [
              "<Figure size 640x480 with 1 Axes>"
            ],
            "image/png": "[encoded data removed]"
          },
          "metadata": {}
        }
      ]
    },
    {
      "cell_type": "markdown",
      "source": [
        "## Matrix and Tensor"
      ],
      "metadata": {
        "id": "hiQK3AeEM7qK"
      }
    },
    {
      "cell_type": "code",
      "source": [
        "img[20][15]"
      ],
      "metadata": {
        "colab": {
          "base_uri": "https://localhost:8080/"
        },
        "id": "zttQ8OA9M55L",
        "outputId": "ee5614ff-cb2a-4b4f-a5ba-003b735f121b"
      },
      "execution_count": null,
      "outputs": [
        {
          "output_type": "execute_result",
          "data": {
            "text/plain": [
              "0.98828125"
            ]
          },
          "metadata": {},
          "execution_count": 18
        }
      ]
    },
    {
      "cell_type": "code",
      "source": [
        "class Matrix:\n",
        "    def __init__(self, xs):\n",
        "      self.xs = xs\n",
        "\n",
        "    def __getitem__(self, idxs):\n",
        "      return self.xs[idxs[0]][idxs[1]]\n",
        "\n",
        "m = Matrix(img)\n",
        "m[20,15]"
      ],
      "metadata": {
        "colab": {
          "base_uri": "https://localhost:8080/"
        },
        "id": "xD97cI7FNDfc",
        "outputId": "224d4783-b189-4001-ccdb-2367e472a16c"
      },
      "execution_count": null,
      "outputs": [
        {
          "output_type": "execute_result",
          "data": {
            "text/plain": [
              "0.98828125"
            ]
          },
          "metadata": {},
          "execution_count": 19
        }
      ]
    },
    {
      "cell_type": "code",
      "source": [
        "from torch import tensor, from_numpy\n",
        "\n",
        "torch.tensor([1, 2, 3])"
      ],
      "metadata": {
        "colab": {
          "base_uri": "https://localhost:8080/"
        },
        "id": "cyqNI1GsNO19",
        "outputId": "550a9366-d498-48cd-a818-b33531df9364"
      },
      "execution_count": null,
      "outputs": [
        {
          "output_type": "execute_result",
          "data": {
            "text/plain": [
              "tensor([1, 2, 3])"
            ]
          },
          "metadata": {},
          "execution_count": 20
        }
      ]
    },
    {
      "cell_type": "code",
      "source": [
        "# NOTE: to retain numpy dtype, need to pass in dtype or use torch.from_numpy\n",
        "x_train, y_train, x_valid, y_valid = map(\n",
        "    lambda x: tensor(x, dtype=torch.float32),\n",
        "     (x_train, y_train, x_valid, y_valid))"
      ],
      "metadata": {
        "id": "9F4LpXGhNY9i",
        "colab": {
          "base_uri": "https://localhost:8080/"
        },
        "outputId": "b2f132ce-f0ed-46f9-b672-866a5ed1fd6d"
      },
      "execution_count": null,
      "outputs": [
        {
          "output_type": "stream",
          "name": "stderr",
          "text": [
            "<ipython-input-30-8699214b4786>:3: UserWarning: To copy construct from a tensor, it is recommended to use sourceTensor.clone().detach() or sourceTensor.clone().detach().requires_grad_(True), rather than torch.tensor(sourceTensor).\n",
            "  lambda x: tensor(x, dtype=torch.float32),\n"
          ]
        }
      ]
    },
    {
      "cell_type": "code",
      "source": [
        "x_train.shape, y_train.shape, x_valid.shape, y_valid.shape"
      ],
      "metadata": {
        "colab": {
          "base_uri": "https://localhost:8080/"
        },
        "id": "neYlRlJyNvkX",
        "outputId": "32bef2e4-18f2-4f62-a9c9-cf0129f982c6"
      },
      "execution_count": null,
      "outputs": [
        {
          "output_type": "execute_result",
          "data": {
            "text/plain": [
              "(torch.Size([50000, 784]),\n",
              " torch.Size([50000]),\n",
              " torch.Size([10000, 784]),\n",
              " torch.Size([10000]))"
            ]
          },
          "metadata": {},
          "execution_count": 31
        }
      ]
    },
    {
      "cell_type": "code",
      "source": [
        "type(x_train), type(y_train), type(x_valid), type(y_valid)"
      ],
      "metadata": {
        "colab": {
          "base_uri": "https://localhost:8080/"
        },
        "id": "RXZv21X4N3IU",
        "outputId": "830e66f3-da0f-447e-b237-7108a8f45999"
      },
      "execution_count": null,
      "outputs": [
        {
          "output_type": "execute_result",
          "data": {
            "text/plain": [
              "(torch.Tensor, torch.Tensor, torch.Tensor, torch.Tensor)"
            ]
          },
          "metadata": {},
          "execution_count": 32
        }
      ]
    },
    {
      "cell_type": "code",
      "source": [
        "imgs = x_train.reshape(-1, 28, 28)\n",
        "imgs[0, 20, 15]"
      ],
      "metadata": {
        "colab": {
          "base_uri": "https://localhost:8080/"
        },
        "id": "rAMwNpfeN3Dx",
        "outputId": "96360c37-f04c-4069-e0df-6ad2e5c690b9"
      },
      "execution_count": null,
      "outputs": [
        {
          "output_type": "execute_result",
          "data": {
            "text/plain": [
              "tensor(0.9883)"
            ]
          },
          "metadata": {},
          "execution_count": 33
        }
      ]
    },
    {
      "cell_type": "code",
      "source": [
        "plt.imshow(imgs[0])"
      ],
      "metadata": {
        "colab": {
          "base_uri": "https://localhost:8080/",
          "height": 448
        },
        "id": "NPKxQHAQN3BZ",
        "outputId": "5e4ec51c-1af9-4a32-f009-5423a4279d05"
      },
      "execution_count": null,
      "outputs": [
        {
          "output_type": "execute_result",
          "data": {
            "text/plain": [
              "<matplotlib.image.AxesImage at 0x7f5605427fd0>"
            ]
          },
          "metadata": {},
          "execution_count": 34
        },
        {
          "output_type": "display_data",
          "data": {
            "text/plain": [
              "<Figure size 640x480 with 1 Axes>"
            ],
            "image/png": "[encoded data removed]"
          },
          "metadata": {}
        }
      ]
    },
    {
      "cell_type": "code",
      "source": [
        "assert img[20][15] == imgs[0, 20, 15]\n",
        "assert m[20, 15] == img[20][15]\n",
        "assert m[20, 15] == imgs[0, 20, 15]"
      ],
      "metadata": {
        "id": "Y5LEMMcQRSJM"
      },
      "execution_count": null,
      "outputs": []
    },
    {
      "cell_type": "code",
      "source": [
        "n, c = x_train.shape\n",
        "\n",
        "assert n == 50000\n",
        "assert c == 784\n",
        "assert y_train.min() == 0\n",
        "assert y_train.max() == 9"
      ],
      "metadata": {
        "id": "jYPKiuUYN2-v"
      },
      "execution_count": null,
      "outputs": []
    },
    {
      "cell_type": "markdown",
      "source": [
        "## Random Numbers\n",
        "\n",
        "Based on the Wichmann Hill algorithm used before Python 2.3."
      ],
      "metadata": {
        "id": "qlT2tgTKRaOQ"
      }
    },
    {
      "cell_type": "code",
      "source": [
        "rnd_state = None\n",
        "def seed(a):\n",
        "    global rnd_state\n",
        "    a, x = divmod(a, 30268)\n",
        "    a, y = divmod(a, 30306)\n",
        "    a, z = divmod(a, 30322)\n",
        "    rnd_state = int(x)+1, int(y)+1, int(z)+1\n",
        "\n",
        "seed(457428938475)\n",
        "rnd_state"
      ],
      "metadata": {
        "colab": {
          "base_uri": "https://localhost:8080/"
        },
        "id": "kg4OuaSbRKFT",
        "outputId": "43789517-7996-49da-ae0a-b4e7c16cb039"
      },
      "execution_count": null,
      "outputs": [
        {
          "output_type": "execute_result",
          "data": {
            "text/plain": [
              "(4976, 20238, 499)"
            ]
          },
          "metadata": {},
          "execution_count": 39
        }
      ]
    },
    {
      "cell_type": "code",
      "source": [
        "def rand():\n",
        "    global rnd_state\n",
        "    x, y, z = rnd_state\n",
        "    x = (171 * x) % 30269\n",
        "    y = (172 * y) % 30307\n",
        "    z = (170 * z) % 30323\n",
        "    rnd_state = x,y,z\n",
        "    return (x/30269 + y/30307 + z/30323) % 1.0\n",
        "\n",
        "rand(), rand(), rand()"
      ],
      "metadata": {
        "colab": {
          "base_uri": "https://localhost:8080/"
        },
        "id": "XOwNtfMZRdFQ",
        "outputId": "c4791fca-3d7b-4631-802f-3c2be22ba6f1"
      },
      "execution_count": null,
      "outputs": [
        {
          "output_type": "execute_result",
          "data": {
            "text/plain": [
              "(0.7645251082582081, 0.7920889799553945, 0.06912886811267205)"
            ]
          },
          "metadata": {},
          "execution_count": 40
        }
      ]
    },
    {
      "cell_type": "code",
      "source": [
        "# not truly random\n",
        "if os.fork(): print(f'In parent: {rand()}')\n",
        "else:\n",
        "    print(f'In child: {rand()}')\n",
        "    os._exit(os.EX_OK)"
      ],
      "metadata": {
        "colab": {
          "base_uri": "https://localhost:8080/"
        },
        "id": "WGpTqQoURdCy",
        "outputId": "ea6e3dd0-c259-4f04-c5b2-747d10c144bd"
      },
      "execution_count": null,
      "outputs": [
        {
          "output_type": "stream",
          "name": "stdout",
          "text": [
            "In child: 0.9559050644103264In parent: 0.9559050644103264\n",
            "\n"
          ]
        }
      ]
    },
    {
      "cell_type": "code",
      "source": [
        "# how about numpy? Not truly random either\n",
        "if os.fork(): print(f'In parent: {np.random.random(1)}')\n",
        "else:\n",
        "    print(f'In child: {np.random.random(1)}')\n",
        "    os._exit(os.EX_OK)"
      ],
      "metadata": {
        "colab": {
          "base_uri": "https://localhost:8080/"
        },
        "id": "R9yJdeO8SVCe",
        "outputId": "ad81bed0-ff57-4b2b-c098-184ab9a66d90"
      },
      "execution_count": null,
      "outputs": [
        {
          "output_type": "stream",
          "name": "stdout",
          "text": [
            "In parent: [0.04305764]\n",
            "In child: [0.04305764]\n"
          ]
        }
      ]
    },
    {
      "cell_type": "code",
      "source": [
        "# how about torch? Not truly random either\n",
        "if os.fork(): print(f'In parent: {torch.rand(1)}')\n",
        "else:\n",
        "    print(f'In child: {torch.rand(1)}')\n",
        "    os._exit(os.EX_OK)"
      ],
      "metadata": {
        "colab": {
          "base_uri": "https://localhost:8080/"
        },
        "id": "_PTw834WRdAQ",
        "outputId": "a16fc253-4d91-4ca1-9a5e-57ef8f383ee6"
      },
      "execution_count": null,
      "outputs": [
        {
          "output_type": "stream",
          "name": "stdout",
          "text": [
            "In child: tensor([0.2638])\n",
            "In parent: tensor([0.2638])\n"
          ]
        }
      ]
    },
    {
      "cell_type": "code",
      "source": [
        "plt.plot([rand() for _ in range(50)]);"
      ],
      "metadata": {
        "colab": {
          "base_uri": "https://localhost:8080/",
          "height": 430
        },
        "id": "PeKx9cAgRc8m",
        "outputId": "7faf62da-f2da-4ac9-a43d-55a798fc2a8f"
      },
      "execution_count": null,
      "outputs": [
        {
          "output_type": "display_data",
          "data": {
            "text/plain": [
              "<Figure size 640x480 with 1 Axes>"
            ],
            "image/png": "[encoded data removed]"
          },
          "metadata": {}
        }
      ]
    },
    {
      "cell_type": "code",
      "source": [
        "plt.hist([rand() for _ in range(10000)]);"
      ],
      "metadata": {
        "colab": {
          "base_uri": "https://localhost:8080/",
          "height": 430
        },
        "id": "wQmA7qyMRc6f",
        "outputId": "0eb33dff-12f0-4637-9259-a724c5cdd2bf"
      },
      "execution_count": null,
      "outputs": [
        {
          "output_type": "display_data",
          "data": {
            "text/plain": [
              "<Figure size 640x480 with 1 Axes>"
            ],
            "image/png": "[encoded data removed]"
          },
          "metadata": {}
        }
      ]
    },
    {
      "cell_type": "code",
      "source": [
        "%timeit -n 10 list(chunks([rand() for _ in range(7840)], 10))"
      ],
      "metadata": {
        "colab": {
          "base_uri": "https://localhost:8080/"
        },
        "id": "tQ4mVTW8Rc4o",
        "outputId": "287485e6-2e1e-439b-d1e1-7642dedefd56"
      },
      "execution_count": null,
      "outputs": [
        {
          "output_type": "stream",
          "name": "stdout",
          "text": [
            "3.91 ms ± 88 µs per loop (mean ± std. dev. of 7 runs, 10 loops each)\n"
          ]
        }
      ]
    },
    {
      "cell_type": "code",
      "source": [
        "%timeit -n 10 torch.randn(784,10)"
      ],
      "metadata": {
        "colab": {
          "base_uri": "https://localhost:8080/"
        },
        "id": "SMf4EE7TRc12",
        "outputId": "a90635f1-2e1f-4bf7-d13f-cda97bfc9c05"
      },
      "execution_count": null,
      "outputs": [
        {
          "output_type": "stream",
          "name": "stdout",
          "text": [
            "56.5 µs ± 6.51 µs per loop (mean ± std. dev. of 7 runs, 10 loops each)\n"
          ]
        }
      ]
    },
    {
      "cell_type": "markdown",
      "source": [
        "## Matrix Multiplication\n",
        "\n",
        "We posit a linear model of the following form.\n",
        "\n",
        "```\n",
        "y = wx + b\n",
        "\n",
        "  y is of shape (n, c)    // c = number of classes\n",
        "  x is of shape (n, 784)  // 28x28\n",
        "  w is of shape (784, c). // project 784 to c\n",
        "  b is of shape (1, c).   // bias term\n",
        "```"
      ],
      "metadata": {
        "id": "305nGORKT_92"
      }
    },
    {
      "cell_type": "code",
      "source": [
        "torch.manual_seed(1)\n",
        "weights = torch.randn(784, 10)\n",
        "bias = torch.zeros(10)"
      ],
      "metadata": {
        "id": "1AT7L0-yRczN"
      },
      "execution_count": null,
      "outputs": []
    },
    {
      "cell_type": "markdown",
      "source": [
        "#### Naive version, Python only\n",
        "\n",
        "__NOTE__: We consider a slice of 5 rows only, so the entire matrix would take approximately `50,000 / 5 = 10,000` times the time this takes."
      ],
      "metadata": {
        "id": "fBPGIjBmUVlc"
      }
    },
    {
      "cell_type": "code",
      "source": [
        "m1 = x_valid[:5]\n",
        "m2 = weights\n",
        "\n",
        "m1.shape, m2.shape"
      ],
      "metadata": {
        "colab": {
          "base_uri": "https://localhost:8080/"
        },
        "id": "du9stqIERcwx",
        "outputId": "4a4e4cb6-6d74-4a37-c47c-416fc4a33bea"
      },
      "execution_count": null,
      "outputs": [
        {
          "output_type": "execute_result",
          "data": {
            "text/plain": [
              "(torch.Size([5, 784]), torch.Size([784, 10]))"
            ]
          },
          "metadata": {},
          "execution_count": 51
        }
      ]
    },
    {
      "cell_type": "code",
      "source": [
        "ar, ac = m1.shape # n_rows * n_cols\n",
        "br, bc = m2.shape\n",
        "(ar, ac), (br, bc)"
      ],
      "metadata": {
        "colab": {
          "base_uri": "https://localhost:8080/"
        },
        "id": "ryqnymsXRcuO",
        "outputId": "7c3db0f6-3eab-4042-db96-8015e9cf02de"
      },
      "execution_count": null,
      "outputs": [
        {
          "output_type": "execute_result",
          "data": {
            "text/plain": [
              "((5, 784), (784, 10))"
            ]
          },
          "metadata": {},
          "execution_count": 52
        }
      ]
    },
    {
      "cell_type": "code",
      "source": [
        "def matmul(a, b):\n",
        "  (ar, ac), (br, bc) = a.shape, b.shape\n",
        "  c = torch.zeros(ar, bc)\n",
        "  for i in range(ar):\n",
        "    for j in range(bc):\n",
        "      for k in range(ac):\n",
        "        c[i,j] += a[i,k] * b[k,j]\n",
        "  return c\n",
        "\n",
        "%time t1 = matmul(m1, m2)"
      ],
      "metadata": {
        "colab": {
          "base_uri": "https://localhost:8080/"
        },
        "id": "9f_tWC3wN20e",
        "outputId": "8d51d1ba-b7e9-4c91-a733-265f92bca176"
      },
      "execution_count": null,
      "outputs": [
        {
          "output_type": "stream",
          "name": "stdout",
          "text": [
            "CPU times: user 806 ms, sys: 4.78 ms, total: 811 ms\n",
            "Wall time: 810 ms\n"
          ]
        }
      ]
    },
    {
      "cell_type": "code",
      "source": [
        "results = []\n",
        "result = %timeit -o -n 5 matmul(m1, m2)\n",
        "results.append((\"python\", result.average, result.stdev))"
      ],
      "metadata": {
        "colab": {
          "base_uri": "https://localhost:8080/"
        },
        "id": "G_7NNeCLspLV",
        "outputId": "5704a7cf-5fe7-4722-84eb-a7c0d208ae7e"
      },
      "execution_count": null,
      "outputs": [
        {
          "output_type": "stream",
          "name": "stdout",
          "text": [
            "801 ms ± 4.06 ms per loop (mean ± std. dev. of 7 runs, 5 loops each)\n"
          ]
        }
      ]
    },
    {
      "cell_type": "markdown",
      "source": [
        "#### Numba JIT"
      ],
      "metadata": {
        "id": "oM-D0kSnVbns"
      }
    },
    {
      "cell_type": "code",
      "source": [
        "from numba import njit\n",
        "\n",
        "@njit\n",
        "def dot(a, b):\n",
        "  res = 0.\n",
        "  for i in range(len(a)):\n",
        "    res += a[i] * b[i]\n",
        "  return res"
      ],
      "metadata": {
        "id": "368mTdfOVLbr"
      },
      "execution_count": null,
      "outputs": []
    },
    {
      "cell_type": "code",
      "source": [
        "# NOTE: first time is slow since it JIT compiles\n",
        "%time dot(np.array([1., 2, 3]), np.array([2., 3, 4]))"
      ],
      "metadata": {
        "colab": {
          "base_uri": "https://localhost:8080/"
        },
        "id": "tt2pYghmV59R",
        "outputId": "1228b881-4e51-4d06-b514-a7d572d1902d"
      },
      "execution_count": null,
      "outputs": [
        {
          "output_type": "stream",
          "name": "stdout",
          "text": [
            "CPU times: user 430 ms, sys: 30.2 ms, total: 460 ms\n",
            "Wall time: 457 ms\n"
          ]
        },
        {
          "output_type": "execute_result",
          "data": {
            "text/plain": [
              "20.0"
            ]
          },
          "metadata": {},
          "execution_count": 56
        }
      ]
    },
    {
      "cell_type": "code",
      "source": [
        "%time dot(np.array([1., 2, 3]), np.array([2., 3, 4]))"
      ],
      "metadata": {
        "colab": {
          "base_uri": "https://localhost:8080/"
        },
        "id": "bVFpARXoVLZP",
        "outputId": "42627290-f18f-4ce6-8d1a-b5cb81e0caeb"
      },
      "execution_count": null,
      "outputs": [
        {
          "output_type": "stream",
          "name": "stdout",
          "text": [
            "CPU times: user 27 µs, sys: 4 µs, total: 31 µs\n",
            "Wall time: 34.3 µs\n"
          ]
        },
        {
          "output_type": "execute_result",
          "data": {
            "text/plain": [
              "20.0"
            ]
          },
          "metadata": {},
          "execution_count": 57
        }
      ]
    },
    {
      "cell_type": "code",
      "source": [
        "def matmul(a,b):\n",
        "  (ar, ac), (br, bc) = a.shape, b.shape\n",
        "  c = torch.zeros(ar, bc)\n",
        "  for i in range(ar):\n",
        "    for j in range(bc):\n",
        "      # replace the inner loop with call to dot\n",
        "      c[i, j] = dot(a[i, :], b[:, j])\n",
        "  return c\n",
        "\n",
        "m1a, m2a = m1.numpy(), m2.numpy()\n",
        "%time t2 = matmul(m1a, m2a)"
      ],
      "metadata": {
        "colab": {
          "base_uri": "https://localhost:8080/"
        },
        "id": "O-boZ9ijVLW-",
        "outputId": "453d2992-d055-41b2-8759-fac0668e91cb"
      },
      "execution_count": null,
      "outputs": [
        {
          "output_type": "stream",
          "name": "stdout",
          "text": [
            "CPU times: user 503 µs, sys: 78 µs, total: 581 µs\n",
            "Wall time: 587 µs\n"
          ]
        }
      ]
    },
    {
      "cell_type": "code",
      "source": [
        "result = %timeit -o -n 50 matmul(m1a, m2a)\n",
        "results.append((\"numba\", result.average, result.stdev))"
      ],
      "metadata": {
        "colab": {
          "base_uri": "https://localhost:8080/"
        },
        "id": "buQ97wv2VLUn",
        "outputId": "1f339137-ad92-4049-abc9-962e6f6175fd"
      },
      "execution_count": null,
      "outputs": [
        {
          "output_type": "stream",
          "name": "stdout",
          "text": [
            "447 µs ± 11.7 µs per loop (mean ± std. dev. of 7 runs, 50 loops each)\n"
          ]
        }
      ]
    },
    {
      "cell_type": "markdown",
      "source": [
        "### Element-wise ops\n",
        "\n",
        "We can also multiply a pair of tensors element-wise without having to invoke a function such as `dot`.\n",
        "\n",
        "[TryAPL](https://tryapl.org/)\n",
        "\n",
        "**With tensors of rank 1 (1-D tensors)**"
      ],
      "metadata": {
        "id": "2_SmYSnfXJL_"
      }
    },
    {
      "cell_type": "code",
      "source": [
        "a = tensor([10., 6, -4])\n",
        "b = tensor([2., 8, 7])\n",
        "a, b"
      ],
      "metadata": {
        "colab": {
          "base_uri": "https://localhost:8080/"
        },
        "id": "j16UEpuIVLSQ",
        "outputId": "d35a9084-eb2c-43d3-b1de-524f6a24b62a"
      },
      "execution_count": null,
      "outputs": [
        {
          "output_type": "execute_result",
          "data": {
            "text/plain": [
              "(tensor([10.,  6., -4.]), tensor([2., 8., 7.]))"
            ]
          },
          "metadata": {},
          "execution_count": 61
        }
      ]
    },
    {
      "cell_type": "code",
      "source": [
        "a + b"
      ],
      "metadata": {
        "colab": {
          "base_uri": "https://localhost:8080/"
        },
        "id": "5OK8LYrUZvbY",
        "outputId": "31a99862-2d25-4c58-844f-b12ae9b34924"
      },
      "execution_count": null,
      "outputs": [
        {
          "output_type": "execute_result",
          "data": {
            "text/plain": [
              "tensor([12., 14.,  3.])"
            ]
          },
          "metadata": {},
          "execution_count": 62
        }
      ]
    },
    {
      "cell_type": "code",
      "source": [
        "(a < b).float().mean()"
      ],
      "metadata": {
        "colab": {
          "base_uri": "https://localhost:8080/"
        },
        "id": "RVHyab2YZydx",
        "outputId": "ce7b9ec9-dcaf-4006-81db-ea1b2ab32235"
      },
      "execution_count": null,
      "outputs": [
        {
          "output_type": "execute_result",
          "data": {
            "text/plain": [
              "tensor(0.6667)"
            ]
          },
          "metadata": {},
          "execution_count": 63
        }
      ]
    },
    {
      "cell_type": "code",
      "source": [
        "a * b"
      ],
      "metadata": {
        "colab": {
          "base_uri": "https://localhost:8080/"
        },
        "id": "pm1Kywi3Z34k",
        "outputId": "4ea8de98-e597-430d-bd5b-01be5d511b7a"
      },
      "execution_count": null,
      "outputs": [
        {
          "output_type": "execute_result",
          "data": {
            "text/plain": [
              "tensor([ 20.,  48., -28.])"
            ]
          },
          "metadata": {},
          "execution_count": 64
        }
      ]
    },
    {
      "cell_type": "markdown",
      "source": [
        "**With tensors of rank 2 (2-D tensors)**"
      ],
      "metadata": {
        "id": "3NRBQIdzaK8N"
      }
    },
    {
      "cell_type": "code",
      "source": [
        "m = tensor([[1., 2, 3], [4,5,6], [7,8,9]])"
      ],
      "metadata": {
        "id": "hHDKFDGeZ_aN"
      },
      "execution_count": null,
      "outputs": []
    },
    {
      "cell_type": "code",
      "source": [
        "m"
      ],
      "metadata": {
        "colab": {
          "base_uri": "https://localhost:8080/"
        },
        "id": "ZIEWYep5VLQH",
        "outputId": "20ed8dfb-2a60-4b72-c933-7b7f695810f0"
      },
      "execution_count": null,
      "outputs": [
        {
          "output_type": "execute_result",
          "data": {
            "text/plain": [
              "tensor([[1., 2., 3.],\n",
              "        [4., 5., 6.],\n",
              "        [7., 8., 9.]])"
            ]
          },
          "metadata": {},
          "execution_count": 67
        }
      ]
    },
    {
      "cell_type": "markdown",
      "metadata": {
        "id": "VoDbDSm_-GnB"
      },
      "source": [
        "**Frobenius norm:**\n",
        "\n",
        "$$\\| A \\|_F = \\left( \\sum_{i,j=1}^n | a_{ij} |^2 \\right)^{1/2}$$\n",
        "\n",
        "*Hint*: you don't normally need to write equations in LaTeX yourself, instead, you can click 'edit' in Wikipedia and copy the LaTeX from there (which is what I did for the above equation). Or on arxiv.org, click \"Download: Other formats\" in the top right, then \"Download source\"; rename the downloaded file to end in `.tgz` if it doesn't already, and you should find the source there, including the equations to copy and paste.\n",
        "\n",
        "*Hint-2*: [Online LaTex code editor](https://latex.codecogs.com/eqneditor/editor.php)"
      ]
    },
    {
      "cell_type": "code",
      "source": [
        "sf = (m * m).sum().sqrt()\n",
        "sf"
      ],
      "metadata": {
        "colab": {
          "base_uri": "https://localhost:8080/"
        },
        "id": "RfY1y7VwaXDs",
        "outputId": "3ab0c709-80e7-4acf-eb94-8fbe2f91c3aa"
      },
      "execution_count": null,
      "outputs": [
        {
          "output_type": "execute_result",
          "data": {
            "text/plain": [
              "tensor(16.8819)"
            ]
          },
          "metadata": {},
          "execution_count": 66
        }
      ]
    },
    {
      "cell_type": "code",
      "source": [
        "m[2, :], m[:, 2]"
      ],
      "metadata": {
        "colab": {
          "base_uri": "https://localhost:8080/"
        },
        "id": "mYepB7-kVLN5",
        "outputId": "520b1e2e-6151-46bd-e8f7-4bd720412706"
      },
      "execution_count": null,
      "outputs": [
        {
          "output_type": "execute_result",
          "data": {
            "text/plain": [
              "(tensor([7., 8., 9.]), tensor([3., 6., 9.]))"
            ]
          },
          "metadata": {},
          "execution_count": 68
        }
      ]
    },
    {
      "cell_type": "code",
      "source": [
        "def matmul(a,b):\n",
        "  (ar,ac),(br,bc) = a.shape,b.shape\n",
        "  c = torch.zeros(ar, bc)\n",
        "  for i in range(ar):\n",
        "    for j in range(bc):\n",
        "      c[i,j] = (a[i,:] * b[:,j]).sum()\n",
        "  return c\n",
        "\n",
        "%time t3 = matmul(m1, m2)"
      ],
      "metadata": {
        "colab": {
          "base_uri": "https://localhost:8080/"
        },
        "id": "qfXuoHsJVLLf",
        "outputId": "0ec4c372-5da7-4dc2-a6c8-06787cb60d4f"
      },
      "execution_count": null,
      "outputs": [
        {
          "output_type": "stream",
          "name": "stdout",
          "text": [
            "CPU times: user 1.35 ms, sys: 56 µs, total: 1.41 ms\n",
            "Wall time: 1.42 ms\n"
          ]
        }
      ]
    },
    {
      "cell_type": "code",
      "source": [
        "def test_close(a, b):\n",
        "  return torch.allclose(a, b, rtol=1e-3, atol=1e-5)\n",
        "\n",
        "assert test_close(t1, t3)"
      ],
      "metadata": {
        "id": "XCUgXkF0VLI7"
      },
      "execution_count": null,
      "outputs": []
    },
    {
      "cell_type": "code",
      "source": [
        "result = %timeit -o -n 50 matmul(m1, m2)\n",
        "results.append((\"element-wise\", result.average, result.stdev))"
      ],
      "metadata": {
        "colab": {
          "base_uri": "https://localhost:8080/"
        },
        "id": "IVS9VciPbxss",
        "outputId": "63456591-72ea-49b0-f58a-2cf022a8391a"
      },
      "execution_count": null,
      "outputs": [
        {
          "output_type": "stream",
          "name": "stdout",
          "text": [
            "1.21 ms ± 17.1 µs per loop (mean ± std. dev. of 7 runs, 50 loops each)\n"
          ]
        }
      ]
    },
    {
      "cell_type": "markdown",
      "source": [
        "### Element-wise using torch.dot\n"
      ],
      "metadata": {
        "id": "3-0Ih5rVgr4F"
      }
    },
    {
      "cell_type": "code",
      "source": [
        "def matmul(a,b):\n",
        "  (ar,ac),(br,bc) = a.shape,b.shape\n",
        "  c = torch.zeros(ar, bc)\n",
        "  for i in range(ar):\n",
        "    for j in range(bc):\n",
        "      c[i,j] = torch.dot(a[i,:], b[:,j])\n",
        "  return c\n",
        "\n",
        "%time t4 = matmul(m1, m2)"
      ],
      "metadata": {
        "colab": {
          "base_uri": "https://localhost:8080/"
        },
        "id": "Vvl80PA9hLOG",
        "outputId": "b307b708-775c-44f1-f061-2803a41bf789"
      },
      "execution_count": null,
      "outputs": [
        {
          "output_type": "stream",
          "name": "stdout",
          "text": [
            "CPU times: user 1.14 ms, sys: 23 µs, total: 1.17 ms\n",
            "Wall time: 1.17 ms\n"
          ]
        }
      ]
    },
    {
      "cell_type": "code",
      "source": [
        "assert test_close(t1, t4)"
      ],
      "metadata": {
        "id": "cFIag7DohYCB"
      },
      "execution_count": null,
      "outputs": []
    },
    {
      "cell_type": "code",
      "source": [
        "reslt = %timeit -o -n 50 matmul(m1, m2)\n",
        "results.append((\"torch-dot\", result.average, result.stdev))"
      ],
      "metadata": {
        "colab": {
          "base_uri": "https://localhost:8080/"
        },
        "id": "NscVKuurhbRJ",
        "outputId": "c08c133d-d35e-4ea9-d6d7-e4cd8ed90a1f"
      },
      "execution_count": null,
      "outputs": [
        {
          "output_type": "stream",
          "name": "stdout",
          "text": [
            "901 µs ± 7.27 µs per loop (mean ± std. dev. of 7 runs, 50 loops each)\n"
          ]
        }
      ]
    },
    {
      "cell_type": "markdown",
      "source": [
        "## Broadcasting\n",
        "\n",
        "The term broadcasting describes how arrays with different shapes are treated during arithmetic operations.\n",
        "\n",
        "From the [Numpy Documentation](https://docs.scipy.org/doc/numpy-1.10.0/user/basics.broadcasting.html):\n",
        "\n",
        "```\n",
        "The term broadcasting describes how numpy treats arrays with\n",
        "different shapes during arithmetic operations. Subject to certain\n",
        "constraints, the smaller array is “broadcast” across the larger\n",
        "array so that they have compatible shapes. Broadcasting provides a\n",
        "means of vectorizing array operations so that looping occurs in C\n",
        "instead of Python. It does this without making needless copies of\n",
        "data and usually leads to efficient algorithm implementations.\n",
        "```\n",
        "In addition to the efficiency of broadcasting, it allows developers to write less code, which typically leads to fewer errors.\n",
        "\n",
        "This section was adapted from [Chapter 4](https://nbviewer.org/github/fastai/numerical-linear-algebra/blob/master/nbs/4.%20Compressed%20Sensing%20of%20CT%20Scans%20with%20Robust%20Regression.ipynb#4.-Compressed-Sensing-of-CT-Scans-with-Robust-Regression) of the fast.ai [Computational Linear Algebra course](https://github.com/fastai/numerical-linear-algebra).\n",
        "\n",
        "**Broadcasting with a scalar**"
      ],
      "metadata": {
        "id": "-iXUpfDJcAG3"
      }
    },
    {
      "cell_type": "code",
      "source": [
        "a"
      ],
      "metadata": {
        "colab": {
          "base_uri": "https://localhost:8080/"
        },
        "id": "sxT_GKWucDEq",
        "outputId": "aed625ab-d3fe-4089-e6b0-5e39b428fd75"
      },
      "execution_count": null,
      "outputs": [
        {
          "output_type": "execute_result",
          "data": {
            "text/plain": [
              "tensor([10.,  6., -4.])"
            ]
          },
          "metadata": {},
          "execution_count": 75
        }
      ]
    },
    {
      "cell_type": "code",
      "source": [
        "a > 0"
      ],
      "metadata": {
        "colab": {
          "base_uri": "https://localhost:8080/"
        },
        "id": "aUk_A5VRcDBG",
        "outputId": "7280699d-4b7a-406f-eeed-0c95130372bc"
      },
      "execution_count": null,
      "outputs": [
        {
          "output_type": "execute_result",
          "data": {
            "text/plain": [
              "tensor([ True,  True, False])"
            ]
          },
          "metadata": {},
          "execution_count": 76
        }
      ]
    },
    {
      "cell_type": "markdown",
      "source": [
        "How are we able to do a > 0? 0 is being broadcast to have the same dimensions as a.\n",
        "\n",
        "For instance you can normalize our dataset by subtracting the mean (a scalar) from the entire data set (a matrix) and dividing by the standard deviation (another scalar), using broadcasting.\n",
        "\n",
        "Other examples of broadcasting with a scalar:"
      ],
      "metadata": {
        "id": "KJdgjKtndBIw"
      }
    },
    {
      "cell_type": "code",
      "source": [
        "a + 1"
      ],
      "metadata": {
        "colab": {
          "base_uri": "https://localhost:8080/"
        },
        "id": "ILLdGTKlcC-t",
        "outputId": "cac54e2f-d8c1-4246-f0c4-62e5fcfef86d"
      },
      "execution_count": null,
      "outputs": [
        {
          "output_type": "execute_result",
          "data": {
            "text/plain": [
              "tensor([11.,  7., -3.])"
            ]
          },
          "metadata": {},
          "execution_count": 77
        }
      ]
    },
    {
      "cell_type": "code",
      "source": [
        "m"
      ],
      "metadata": {
        "colab": {
          "base_uri": "https://localhost:8080/"
        },
        "id": "qMWeIYmDcC8O",
        "outputId": "6d82f848-c7c3-41e2-fee9-7f61e037f0ee"
      },
      "execution_count": null,
      "outputs": [
        {
          "output_type": "execute_result",
          "data": {
            "text/plain": [
              "tensor([[1., 2., 3.],\n",
              "        [4., 5., 6.],\n",
              "        [7., 8., 9.]])"
            ]
          },
          "metadata": {},
          "execution_count": 79
        }
      ]
    },
    {
      "cell_type": "code",
      "source": [
        "2*m"
      ],
      "metadata": {
        "colab": {
          "base_uri": "https://localhost:8080/"
        },
        "id": "kVlmnXzGcC6C",
        "outputId": "0bd178b3-67f3-465a-9b18-198614ad1c4c"
      },
      "execution_count": null,
      "outputs": [
        {
          "output_type": "execute_result",
          "data": {
            "text/plain": [
              "tensor([[ 2.,  4.,  6.],\n",
              "        [ 8., 10., 12.],\n",
              "        [14., 16., 18.]])"
            ]
          },
          "metadata": {},
          "execution_count": 80
        }
      ]
    },
    {
      "cell_type": "markdown",
      "source": [
        "**Broadcasting vector to matrix**\n",
        "\n",
        "Although broadcasting a scalar (rank 0) is an idea that dates back to APL, the more powerful idea of broadcasting across higher rank tensors [comes from](https://mail.python.org/pipermail/matrix-sig/1995-November/000143.html) a little known language called [Yorick](https://software.llnl.gov/yorick-doc/manual/yorick_50.html).\n",
        "\n",
        "We can also broadcast a vector (rank 1) to a matrix (rank 2):\n",
        "\n"
      ],
      "metadata": {
        "id": "tbib8AaPdLz4"
      }
    },
    {
      "cell_type": "code",
      "source": [
        "c = tensor([10.,20,30])\n",
        "c"
      ],
      "metadata": {
        "colab": {
          "base_uri": "https://localhost:8080/"
        },
        "id": "o3BK954tcC3a",
        "outputId": "6abb83cf-a23c-4f08-dd1d-a39c9d2a4101"
      },
      "execution_count": null,
      "outputs": [
        {
          "output_type": "execute_result",
          "data": {
            "text/plain": [
              "tensor([10., 20., 30.])"
            ]
          },
          "metadata": {},
          "execution_count": 81
        }
      ]
    },
    {
      "cell_type": "code",
      "source": [
        "m"
      ],
      "metadata": {
        "colab": {
          "base_uri": "https://localhost:8080/"
        },
        "id": "JV60IceJePGc",
        "outputId": "8f2616f4-2398-4469-e41d-9492353df324"
      },
      "execution_count": null,
      "outputs": [
        {
          "output_type": "execute_result",
          "data": {
            "text/plain": [
              "tensor([[1., 2., 3.],\n",
              "        [4., 5., 6.],\n",
              "        [7., 8., 9.]])"
            ]
          },
          "metadata": {},
          "execution_count": 82
        }
      ]
    },
    {
      "cell_type": "code",
      "source": [
        "m.shape, c.shape"
      ],
      "metadata": {
        "colab": {
          "base_uri": "https://localhost:8080/"
        },
        "id": "5R0HdBOycC0w",
        "outputId": "1f3eda7e-afcd-45cf-9d9c-14d965604c35"
      },
      "execution_count": null,
      "outputs": [
        {
          "output_type": "execute_result",
          "data": {
            "text/plain": [
              "(torch.Size([3, 3]), torch.Size([3]))"
            ]
          },
          "metadata": {},
          "execution_count": 83
        }
      ]
    },
    {
      "cell_type": "code",
      "source": [
        "m + c"
      ],
      "metadata": {
        "colab": {
          "base_uri": "https://localhost:8080/"
        },
        "id": "uo5xWmBVcCyK",
        "outputId": "10089447-3d88-4ea0-9e02-400b01046430"
      },
      "execution_count": null,
      "outputs": [
        {
          "output_type": "execute_result",
          "data": {
            "text/plain": [
              "tensor([[11., 22., 33.],\n",
              "        [14., 25., 36.],\n",
              "        [17., 28., 39.]])"
            ]
          },
          "metadata": {},
          "execution_count": 84
        }
      ]
    },
    {
      "cell_type": "code",
      "source": [
        "c + m"
      ],
      "metadata": {
        "colab": {
          "base_uri": "https://localhost:8080/"
        },
        "id": "t5IBg2uWcCvS",
        "outputId": "366a3462-41e9-452e-d007-b24a36655e36"
      },
      "execution_count": null,
      "outputs": [
        {
          "output_type": "execute_result",
          "data": {
            "text/plain": [
              "tensor([[11., 22., 33.],\n",
              "        [14., 25., 36.],\n",
              "        [17., 28., 39.]])"
            ]
          },
          "metadata": {},
          "execution_count": 85
        }
      ]
    },
    {
      "cell_type": "code",
      "source": [
        "assert test_close(m + c, c + m)"
      ],
      "metadata": {
        "id": "tRU6TDbLcCsc"
      },
      "execution_count": null,
      "outputs": []
    },
    {
      "cell_type": "code",
      "source": [
        "# what is (logically) happening\n",
        "t = c.expand_as(m)\n",
        "t"
      ],
      "metadata": {
        "colab": {
          "base_uri": "https://localhost:8080/"
        },
        "id": "CWM5jbvLcCbx",
        "outputId": "ce6f2868-62d6-40ef-add6-bf2f46ecf9fb"
      },
      "execution_count": null,
      "outputs": [
        {
          "output_type": "execute_result",
          "data": {
            "text/plain": [
              "tensor([[10., 20., 30.],\n",
              "        [10., 20., 30.],\n",
              "        [10., 20., 30.]])"
            ]
          },
          "metadata": {},
          "execution_count": 87
        }
      ]
    },
    {
      "cell_type": "code",
      "source": [
        "m + t"
      ],
      "metadata": {
        "colab": {
          "base_uri": "https://localhost:8080/"
        },
        "id": "84Kqj7W0cCY7",
        "outputId": "0f41e8b4-a0e1-4a9f-c152-e4718c62ac19"
      },
      "execution_count": null,
      "outputs": [
        {
          "output_type": "execute_result",
          "data": {
            "text/plain": [
              "tensor([[11., 22., 33.],\n",
              "        [14., 25., 36.],\n",
              "        [17., 28., 39.]])"
            ]
          },
          "metadata": {},
          "execution_count": 88
        }
      ]
    },
    {
      "cell_type": "code",
      "source": [
        "# We don't really copy the rows, but it looks as if we did.\n",
        "# In fact, the rows are given a stride of 0.\n",
        "t.storage()\n"
      ],
      "metadata": {
        "colab": {
          "base_uri": "https://localhost:8080/"
        },
        "id": "yc9imc97ean1",
        "outputId": "ea90bd84-1eff-4dae-ec89-56146553df0a"
      },
      "execution_count": null,
      "outputs": [
        {
          "output_type": "stream",
          "name": "stderr",
          "text": [
            "<ipython-input-89-743f9a1d4daa>:3: UserWarning: TypedStorage is deprecated. It will be removed in the future and UntypedStorage will be the only storage class. This should only matter to you if you are using storages directly.  To access UntypedStorage directly, use tensor.untyped_storage() instead of tensor.storage()\n",
            "  t.storage()\n"
          ]
        },
        {
          "output_type": "execute_result",
          "data": {
            "text/plain": [
              " 10.0\n",
              " 20.0\n",
              " 30.0\n",
              "[torch.storage.TypedStorage(dtype=torch.float32, device=cpu) of size 3]"
            ]
          },
          "metadata": {},
          "execution_count": 89
        }
      ]
    },
    {
      "cell_type": "code",
      "source": [
        "t.stride(), t.shape"
      ],
      "metadata": {
        "colab": {
          "base_uri": "https://localhost:8080/"
        },
        "id": "ID5J4rOxekVI",
        "outputId": "9bccd273-7514-46ef-8ad0-22077f102abc"
      },
      "execution_count": null,
      "outputs": [
        {
          "output_type": "execute_result",
          "data": {
            "text/plain": [
              "((0, 1), torch.Size([3, 3]))"
            ]
          },
          "metadata": {},
          "execution_count": 91
        }
      ]
    },
    {
      "cell_type": "markdown",
      "source": [
        "You can index with the special value [None] or use unsqueeze() to convert a 1-dimensional array into a 2-dimensional array (although one of those dimensions has value 1)."
      ],
      "metadata": {
        "id": "1Jjre_U7erXD"
      }
    },
    {
      "cell_type": "code",
      "source": [
        "# add an index along the row\n",
        "c.unsqueeze(0), c[None, :]"
      ],
      "metadata": {
        "colab": {
          "base_uri": "https://localhost:8080/"
        },
        "id": "Jr64B2KXenx5",
        "outputId": "6332dedd-e57d-4a20-9b65-eb2cf24b19ee"
      },
      "execution_count": null,
      "outputs": [
        {
          "output_type": "execute_result",
          "data": {
            "text/plain": [
              "(tensor([[10., 20., 30.]]), tensor([[10., 20., 30.]]))"
            ]
          },
          "metadata": {},
          "execution_count": 92
        }
      ]
    },
    {
      "cell_type": "code",
      "source": [
        "c.shape, c.unsqueeze(0).shape"
      ],
      "metadata": {
        "colab": {
          "base_uri": "https://localhost:8080/"
        },
        "id": "p351V8t9eutW",
        "outputId": "63ae92cd-33a6-4afa-dddb-a951afcfe5ff"
      },
      "execution_count": null,
      "outputs": [
        {
          "output_type": "execute_result",
          "data": {
            "text/plain": [
              "(torch.Size([3]), torch.Size([1, 3]))"
            ]
          },
          "metadata": {},
          "execution_count": 93
        }
      ]
    },
    {
      "cell_type": "code",
      "source": [
        "# add an index along the column\n",
        "c.unsqueeze(1), c[:, None]"
      ],
      "metadata": {
        "colab": {
          "base_uri": "https://localhost:8080/"
        },
        "id": "tUCQ2sUiezCq",
        "outputId": "bf17b040-5789-4f83-b473-cb74642a9169"
      },
      "execution_count": null,
      "outputs": [
        {
          "output_type": "execute_result",
          "data": {
            "text/plain": [
              "(tensor([[10.],\n",
              "         [20.],\n",
              "         [30.]]),\n",
              " tensor([[10.],\n",
              "         [20.],\n",
              "         [30.]]))"
            ]
          },
          "metadata": {},
          "execution_count": 94
        }
      ]
    },
    {
      "cell_type": "code",
      "source": [
        "c.shape, c.unsqueeze(1).shape"
      ],
      "metadata": {
        "colab": {
          "base_uri": "https://localhost:8080/"
        },
        "id": "-Ly59yXae1UD",
        "outputId": "183bad91-f80f-4a73-afd1-7823bd46709e"
      },
      "execution_count": null,
      "outputs": [
        {
          "output_type": "execute_result",
          "data": {
            "text/plain": [
              "(torch.Size([3]), torch.Size([3, 1]))"
            ]
          },
          "metadata": {},
          "execution_count": 96
        }
      ]
    },
    {
      "cell_type": "markdown",
      "source": [
        "You can always skip trailling ':'s. And '...' means 'all preceding dimensions'"
      ],
      "metadata": {
        "id": "_kHj6_wCfF7E"
      }
    },
    {
      "cell_type": "code",
      "source": [
        "c[None].shape, c[...,None].shape"
      ],
      "metadata": {
        "colab": {
          "base_uri": "https://localhost:8080/"
        },
        "id": "yIGSRWQqfB6G",
        "outputId": "28f16701-4767-48a1-b0fa-876fcbffe139"
      },
      "execution_count": null,
      "outputs": [
        {
          "output_type": "execute_result",
          "data": {
            "text/plain": [
              "(torch.Size([1, 3]), torch.Size([3, 1]))"
            ]
          },
          "metadata": {},
          "execution_count": 97
        }
      ]
    },
    {
      "cell_type": "code",
      "source": [
        "c[:,None].expand_as(m)"
      ],
      "metadata": {
        "colab": {
          "base_uri": "https://localhost:8080/"
        },
        "id": "JrMPGKgufKO7",
        "outputId": "d2362b25-320f-4b6f-86f8-11d6a9527343"
      },
      "execution_count": null,
      "outputs": [
        {
          "output_type": "execute_result",
          "data": {
            "text/plain": [
              "tensor([[10., 10., 10.],\n",
              "        [20., 20., 20.],\n",
              "        [30., 30., 30.]])"
            ]
          },
          "metadata": {},
          "execution_count": 98
        }
      ]
    },
    {
      "cell_type": "code",
      "source": [
        "c[:, None] + m"
      ],
      "metadata": {
        "colab": {
          "base_uri": "https://localhost:8080/"
        },
        "id": "nV2pF6RmfQ8u",
        "outputId": "d34dd0ca-78b7-4c18-eb37-2ac7b596d91c"
      },
      "execution_count": null,
      "outputs": [
        {
          "output_type": "execute_result",
          "data": {
            "text/plain": [
              "tensor([[11., 12., 13.],\n",
              "        [24., 25., 26.],\n",
              "        [37., 38., 39.]])"
            ]
          },
          "metadata": {},
          "execution_count": 99
        }
      ]
    },
    {
      "cell_type": "code",
      "source": [
        "c[None, :] + m"
      ],
      "metadata": {
        "colab": {
          "base_uri": "https://localhost:8080/"
        },
        "id": "LZ6YAcR7fUY1",
        "outputId": "63b5d08b-6a17-441e-8281-b5b5fa992ec2"
      },
      "execution_count": null,
      "outputs": [
        {
          "output_type": "execute_result",
          "data": {
            "text/plain": [
              "tensor([[11., 22., 33.],\n",
              "        [14., 25., 36.],\n",
              "        [17., 28., 39.]])"
            ]
          },
          "metadata": {},
          "execution_count": 100
        }
      ]
    },
    {
      "cell_type": "markdown",
      "source": [
        "### Broadcasting Rules\n",
        "\n",
        "When operating on two arrays/tensors, Numpy/PyTorch compares their shapes element-wise. It starts with the **trailing dimensions**, and works its way forward. Two dimensions are **compatible** when\n",
        "\n",
        "* they are equal, or\n",
        "* one of them is 1, in which case that dimension is broadcasted to make it the same size\n",
        "\n",
        "Arrays do not need to have the same number of dimensions. For example, if you have a 256*256*3 array of RGB values, and you want to scale each color in the image by a different value, you can multiply the image by a one-dimensional array with 3 values. Lining up the sizes of the trailing axes of these arrays according to the broadcast rules, shows that they are compatible:\n",
        "\n",
        "```\n",
        "Image  (3d array): 256 x 256 x 3\n",
        "Scale  (1d array):             3\n",
        "Result (3d array): 256 x 256 x 3\n",
        "```\n",
        "\n",
        "The numpy documentation includes [several examples](https://docs.scipy.org/doc/numpy-1.13.0/user/basics.broadcasting.html#general-broadcasting-rules) of what dimensions can and can not be broadcast together.\n",
        "\n",
        "## Matmul with broadcasting"
      ],
      "metadata": {
        "id": "qWFknsJufi2G"
      }
    },
    {
      "cell_type": "code",
      "source": [
        "m1.shape, m2.shape"
      ],
      "metadata": {
        "colab": {
          "base_uri": "https://localhost:8080/"
        },
        "id": "0UnjplrSiw3b",
        "outputId": "a4fb70db-4f2e-47b8-b54e-3f6cc3d0a874"
      },
      "execution_count": null,
      "outputs": [
        {
          "output_type": "execute_result",
          "data": {
            "text/plain": [
              "(torch.Size([5, 784]), torch.Size([784, 10]))"
            ]
          },
          "metadata": {},
          "execution_count": 101
        }
      ]
    },
    {
      "cell_type": "code",
      "source": [
        "# we want to multiply a row of m1 with m2\n",
        "row = m1[0]\n",
        "row.shape"
      ],
      "metadata": {
        "colab": {
          "base_uri": "https://localhost:8080/"
        },
        "id": "wdsfjV4RlAlq",
        "outputId": "543d40db-2e4d-4a6c-e29d-65136e57ddfc"
      },
      "execution_count": null,
      "outputs": [
        {
          "output_type": "execute_result",
          "data": {
            "text/plain": [
              "torch.Size([784])"
            ]
          },
          "metadata": {},
          "execution_count": 102
        }
      ]
    },
    {
      "cell_type": "code",
      "source": [
        "lhs = row[:, None]\n",
        "lhs.shape"
      ],
      "metadata": {
        "colab": {
          "base_uri": "https://localhost:8080/"
        },
        "id": "TQnfFC4_lIfe",
        "outputId": "386dd173-8cbd-452d-b5f2-2b2d94b75340"
      },
      "execution_count": null,
      "outputs": [
        {
          "output_type": "execute_result",
          "data": {
            "text/plain": [
              "torch.Size([784, 1])"
            ]
          },
          "metadata": {},
          "execution_count": 103
        }
      ]
    },
    {
      "cell_type": "code",
      "source": [
        "rhs = m2\n",
        "prod = lhs * rhs\n",
        "\n",
        "lhs.shape, rhs.shape, prod.shape"
      ],
      "metadata": {
        "colab": {
          "base_uri": "https://localhost:8080/"
        },
        "id": "KtElhGEpjkL8",
        "outputId": "984ce96d-32e9-4b7b-8c77-c68a99ac8999"
      },
      "execution_count": null,
      "outputs": [
        {
          "output_type": "execute_result",
          "data": {
            "text/plain": [
              "(torch.Size([784, 1]), torch.Size([784, 10]), torch.Size([784, 10]))"
            ]
          },
          "metadata": {},
          "execution_count": 104
        }
      ]
    },
    {
      "cell_type": "code",
      "source": [
        "lhs.expand_as(rhs).shape"
      ],
      "metadata": {
        "colab": {
          "base_uri": "https://localhost:8080/"
        },
        "id": "Vahf55_6kllX",
        "outputId": "ed684eec-ba1f-47ff-8523-36b73d2f108d"
      },
      "execution_count": null,
      "outputs": [
        {
          "output_type": "execute_result",
          "data": {
            "text/plain": [
              "torch.Size([784, 10])"
            ]
          },
          "metadata": {},
          "execution_count": 105
        }
      ]
    },
    {
      "cell_type": "code",
      "source": [
        "def matmul(a,b):\n",
        "  (ar, ac), (br, bc) = a.shape,b.shape\n",
        "  c = torch.zeros(ar, bc)\n",
        "  for i in range(ar):\n",
        "    c[i]   = (a[i, :, None] * b).sum(dim=0)\n",
        "  return c\n",
        "\n",
        "%time t5 = matmul(m1, m2)"
      ],
      "metadata": {
        "colab": {
          "base_uri": "https://localhost:8080/"
        },
        "id": "DLZNIJozfgJQ",
        "outputId": "ef074a87-81f8-4fdc-d746-fa76d36f3381"
      },
      "execution_count": null,
      "outputs": [
        {
          "output_type": "stream",
          "name": "stdout",
          "text": [
            "CPU times: user 416 µs, sys: 0 ns, total: 416 µs\n",
            "Wall time: 424 µs\n"
          ]
        }
      ]
    },
    {
      "cell_type": "code",
      "source": [
        "assert test_close(t1, t5)"
      ],
      "metadata": {
        "id": "5BFOxCnniDcE"
      },
      "execution_count": null,
      "outputs": []
    },
    {
      "cell_type": "code",
      "source": [
        "result = %timeit -o -n 50 matmul(m1, m2)\n",
        "results.append((\"broadcasting\", result.average, result.stdev))"
      ],
      "metadata": {
        "colab": {
          "base_uri": "https://localhost:8080/"
        },
        "id": "BmBk8mgxiMGJ",
        "outputId": "6bc9bfe3-c44d-44ac-855d-4d0dab87d435"
      },
      "execution_count": null,
      "outputs": [
        {
          "output_type": "stream",
          "name": "stdout",
          "text": [
            "179 µs ± 3.22 µs per loop (mean ± std. dev. of 7 runs, 50 loops each)\n"
          ]
        }
      ]
    },
    {
      "cell_type": "markdown",
      "source": [
        "## Einstein Summation\n",
        "\n",
        "[Einstein summation (einsum)](https://ajcr.net/Basic-guide-to-einsum/) is a compact representation for combining products and sums in a general way. The key rules are:\n",
        "\n",
        "* Repeating letters between input arrays means that values along those axes will be multiplied together.\n",
        "* Omitting a letter from the output means that values along that axis will be summed."
      ],
      "metadata": {
        "id": "XTe8es5Emz92"
      }
    },
    {
      "cell_type": "code",
      "source": [
        "m1.shape, m2.shape"
      ],
      "metadata": {
        "colab": {
          "base_uri": "https://localhost:8080/"
        },
        "id": "UCIm4nmXmX6j",
        "outputId": "e70f578c-a2d8-4efa-e55e-13ff190c9639"
      },
      "execution_count": null,
      "outputs": [
        {
          "output_type": "execute_result",
          "data": {
            "text/plain": [
              "(torch.Size([5, 784]), torch.Size([784, 10]))"
            ]
          },
          "metadata": {},
          "execution_count": 109
        }
      ]
    },
    {
      "cell_type": "code",
      "source": [
        "# to illustrate that you don't necessarily have to do sum\n",
        "temp = torch.einsum('ik,kj->ikj', m1, m2)\n",
        "temp.shape"
      ],
      "metadata": {
        "colab": {
          "base_uri": "https://localhost:8080/"
        },
        "id": "vWydjaud_Ao_",
        "outputId": "f8dfa2ab-e6a2-4310-d14f-88a5cce03f0a"
      },
      "execution_count": null,
      "outputs": [
        {
          "output_type": "execute_result",
          "data": {
            "text/plain": [
              "torch.Size([5, 784, 10])"
            ]
          },
          "metadata": {},
          "execution_count": 110
        }
      ]
    },
    {
      "cell_type": "code",
      "source": [
        "temp.sum(dim=1).shape"
      ],
      "metadata": {
        "colab": {
          "base_uri": "https://localhost:8080/"
        },
        "id": "VXIaVijuBtrJ",
        "outputId": "9ee62c56-5d63-464b-80d4-9fdb0a1c7357"
      },
      "execution_count": null,
      "outputs": [
        {
          "output_type": "execute_result",
          "data": {
            "text/plain": [
              "torch.Size([5, 10])"
            ]
          },
          "metadata": {},
          "execution_count": 111
        }
      ]
    },
    {
      "cell_type": "code",
      "source": [
        "# c[i,j] += a[i,k] * b[k,j]\n",
        "# c[i,j] = (a[i,:] * b[:,j]).sum()\n",
        "# mr = torch.einsum('ik,kj->ij', m1, m2)\n",
        "t6 = torch.einsum('ik,kj->ij', m1, m2)\n",
        "\n",
        "t6.shape"
      ],
      "metadata": {
        "colab": {
          "base_uri": "https://localhost:8080/"
        },
        "id": "3MNJcdm3nIl0",
        "outputId": "305459c0-ad53-4702-a635-5027ce9dfd93"
      },
      "execution_count": null,
      "outputs": [
        {
          "output_type": "execute_result",
          "data": {
            "text/plain": [
              "torch.Size([5, 10])"
            ]
          },
          "metadata": {},
          "execution_count": 112
        }
      ]
    },
    {
      "cell_type": "code",
      "source": [
        "def matmul(a, b):\n",
        "  return torch.einsum('ik,kj->ij', a, b)\n",
        "\n",
        "%time t6 = matmul(m1, m2)"
      ],
      "metadata": {
        "colab": {
          "base_uri": "https://localhost:8080/"
        },
        "id": "OjwRt59JpHMA",
        "outputId": "e544f253-2b20-4134-e6dc-b3e56af81d3c"
      },
      "execution_count": null,
      "outputs": [
        {
          "output_type": "stream",
          "name": "stdout",
          "text": [
            "CPU times: user 171 µs, sys: 28 µs, total: 199 µs\n",
            "Wall time: 204 µs\n"
          ]
        }
      ]
    },
    {
      "cell_type": "code",
      "source": [
        "assert test_close(t1, t6)"
      ],
      "metadata": {
        "id": "ZVSRrnu9nNxc"
      },
      "execution_count": null,
      "outputs": []
    },
    {
      "cell_type": "code",
      "source": [
        "result = %timeit -o -n 5 matmul(m1, m2)\n",
        "results.append((\"einsum\", result.average, result.stdev))"
      ],
      "metadata": {
        "colab": {
          "base_uri": "https://localhost:8080/"
        },
        "id": "3544r-psoxZe",
        "outputId": "cc2dd724-37d0-48e2-9fa6-c1ac436782e9"
      },
      "execution_count": null,
      "outputs": [
        {
          "output_type": "stream",
          "name": "stdout",
          "text": [
            "37 µs ± 13 µs per loop (mean ± std. dev. of 7 runs, 5 loops each)\n"
          ]
        }
      ]
    },
    {
      "cell_type": "markdown",
      "source": [
        "## Compare times"
      ],
      "metadata": {
        "id": "WdmrU1pxv8_p"
      }
    },
    {
      "cell_type": "code",
      "source": [
        "results"
      ],
      "metadata": {
        "colab": {
          "base_uri": "https://localhost:8080/"
        },
        "id": "DOH2JxRVxDwg",
        "outputId": "3d145a0f-964c-4616-e474-cb4460b88d44"
      },
      "execution_count": null,
      "outputs": [
        {
          "output_type": "execute_result",
          "data": {
            "text/plain": [
              "[('python', 0.8011125614856999, 0.0040568841527844944),\n",
              " ('numba', 0.00044660110000352556, 1.1714148357105923e-05),\n",
              " ('element-wise', 0.0012094736714295452, 1.7133792763020913e-05),\n",
              " ('torch-dot', 0.0012094736714295452, 1.7133792763020913e-05),\n",
              " ('broadcasting', 0.00017887527143102487, 3.21747133758285e-06),\n",
              " ('einsum', 3.696291423693765e-05, 1.3004186815461947e-05)]"
            ]
          },
          "metadata": {},
          "execution_count": 116
        }
      ]
    },
    {
      "cell_type": "code",
      "source": [
        "xs = np.arange(len(results))\n",
        "ys = [avg for _, avg, _ in results]\n",
        "errs = [sd for _, _, sd in results]\n",
        "plt.bar(xs, ys, yerr=errs)\n",
        "plt.yscale(\"log\")\n",
        "plt.xticks(xs, [tag for tag, _, _ in results], rotation=45)\n",
        "plt.ylabel(\"response times\")\n",
        "plt.show()"
      ],
      "metadata": {
        "colab": {
          "base_uri": "https://localhost:8080/",
          "height": 491
        },
        "id": "IBlF50FQzbR1",
        "outputId": "cabf3ebf-9827-4381-e773-5c6880b410e7"
      },
      "execution_count": null,
      "outputs": [
        {
          "output_type": "display_data",
          "data": {
            "text/plain": [
              "<Figure size 640x480 with 1 Axes>"
            ],
            "image/png": "[encoded data removed]"
          },
          "metadata": {}
        }
      ]
    },
    {
      "cell_type": "markdown",
      "source": [
        "## Full Matrix Multiplication"
      ],
      "metadata": {
        "id": "Vv3i9A00l2vK"
      }
    },
    {
      "cell_type": "code",
      "source": [
        "# now we can multiply the full matrix\n",
        "tr = matmul(x_train, weights)\n",
        "tr.shape"
      ],
      "metadata": {
        "colab": {
          "base_uri": "https://localhost:8080/"
        },
        "id": "hOJPcDRIiX-X",
        "outputId": "890df4a5-652e-4405-b3cc-453fdb66df51"
      },
      "execution_count": null,
      "outputs": [
        {
          "output_type": "execute_result",
          "data": {
            "text/plain": [
              "torch.Size([50000, 10])"
            ]
          },
          "metadata": {},
          "execution_count": 118
        }
      ]
    },
    {
      "cell_type": "code",
      "source": [
        "torch.set_printoptions(precision=2)"
      ],
      "metadata": {
        "id": "sQb0T74hyhIN"
      },
      "execution_count": null,
      "outputs": []
    },
    {
      "cell_type": "code",
      "source": [
        "%time matmul(x_train, weights)"
      ],
      "metadata": {
        "colab": {
          "base_uri": "https://localhost:8080/"
        },
        "id": "ivGcjEjXlw6s",
        "outputId": "e4f16956-88a3-454b-bcfa-b35caf6aba73"
      },
      "execution_count": null,
      "outputs": [
        {
          "output_type": "stream",
          "name": "stdout",
          "text": [
            "CPU times: user 43.1 ms, sys: 0 ns, total: 43.1 ms\n",
            "Wall time: 7.4 ms\n"
          ]
        },
        {
          "output_type": "execute_result",
          "data": {
            "text/plain": [
              "tensor([[  0.96,  -2.96,  -2.11,  ..., -15.09, -17.69,   0.60],\n",
              "        [  6.89,  -0.34,   0.79,  ..., -17.13, -25.36,  16.23],\n",
              "        [-10.18,   7.38,   4.13,  ...,  -6.73,  -6.79,  -1.58],\n",
              "        ...,\n",
              "        [  7.40,   7.64,  -3.50,  ...,  -1.02, -16.22,   2.07],\n",
              "        [  3.25,   9.52,  -9.37,  ...,   2.98, -19.58,  -1.96],\n",
              "        [ 15.70,   4.12,  -5.62,  ...,   8.08, -12.21,   0.42]])"
            ]
          },
          "metadata": {},
          "execution_count": 120
        }
      ]
    },
    {
      "cell_type": "code",
      "source": [
        "full_results = []\n",
        "result = %timeit -o -n 5 matmul(x_train, weights)\n",
        "full_results.append((\"einsum\", result.average, result.stdev))"
      ],
      "metadata": {
        "colab": {
          "base_uri": "https://localhost:8080/"
        },
        "id": "7gIcJFAAckGy",
        "outputId": "8642c003-f932-42c1-8fc8-d1ec447aa531"
      },
      "execution_count": null,
      "outputs": [
        {
          "output_type": "stream",
          "name": "stdout",
          "text": [
            "4.99 ms ± 898 µs per loop (mean ± std. dev. of 7 runs, 5 loops each)\n"
          ]
        }
      ]
    },
    {
      "cell_type": "markdown",
      "source": [
        "## Pytorch's @ op and matmul\n",
        "\n",
        "We can use pytorch's function or operator directly for matrix multiplication."
      ],
      "metadata": {
        "id": "72FQRaJ6pYpJ"
      }
    },
    {
      "cell_type": "code",
      "source": [
        "tr2 = x_train @ weights\n",
        "tr2.size()"
      ],
      "metadata": {
        "colab": {
          "base_uri": "https://localhost:8080/"
        },
        "id": "ejQNMdMepTUp",
        "outputId": "113fec96-ace0-4141-fff0-c706b77fb625"
      },
      "execution_count": null,
      "outputs": [
        {
          "output_type": "execute_result",
          "data": {
            "text/plain": [
              "torch.Size([50000, 10])"
            ]
          },
          "metadata": {},
          "execution_count": 122
        }
      ]
    },
    {
      "cell_type": "code",
      "source": [
        "assert test_close(tr, tr2)"
      ],
      "metadata": {
        "id": "Job-Jgitp-vv"
      },
      "execution_count": null,
      "outputs": []
    },
    {
      "cell_type": "code",
      "source": [
        "result = %timeit -o -n 5 x_train @ weights\n",
        "full_results.append((\"torch @\", result.average, result.stdev))"
      ],
      "metadata": {
        "colab": {
          "base_uri": "https://localhost:8080/"
        },
        "id": "HTrZ-abnp0cQ",
        "outputId": "52c37278-7ad3-4f52-8ec1-fd6d73dafe32"
      },
      "execution_count": null,
      "outputs": [
        {
          "output_type": "stream",
          "name": "stdout",
          "text": [
            "4.74 ms ± 757 µs per loop (mean ± std. dev. of 7 runs, 5 loops each)\n"
          ]
        }
      ]
    },
    {
      "cell_type": "code",
      "source": [
        "tr3 = torch.matmul(x_train, weights)\n",
        "tr3.size()"
      ],
      "metadata": {
        "colab": {
          "base_uri": "https://localhost:8080/"
        },
        "id": "tXWoQlmbDEVO",
        "outputId": "be04e8c5-ec24-4f35-d095-0ffd38c3189c"
      },
      "execution_count": null,
      "outputs": [
        {
          "output_type": "execute_result",
          "data": {
            "text/plain": [
              "torch.Size([50000, 10])"
            ]
          },
          "metadata": {},
          "execution_count": 125
        }
      ]
    },
    {
      "cell_type": "code",
      "source": [
        "assert test_close(tr, tr3)"
      ],
      "metadata": {
        "id": "Tkup-5NpDMYa"
      },
      "execution_count": null,
      "outputs": []
    },
    {
      "cell_type": "code",
      "source": [
        "result = %timeit -o -n 5 torch.matmul(x_train, weights)\n",
        "full_results.append((\"torch.matmul\", result.average, result.stdev))"
      ],
      "metadata": {
        "colab": {
          "base_uri": "https://localhost:8080/"
        },
        "id": "uP75-6nvDPvc",
        "outputId": "c0189061-5b99-4104-e989-d48cb8a97d5b"
      },
      "execution_count": null,
      "outputs": [
        {
          "output_type": "stream",
          "name": "stdout",
          "text": [
            "4.5 ms ± 173 µs per loop (mean ± std. dev. of 7 runs, 5 loops each)\n"
          ]
        }
      ]
    },
    {
      "cell_type": "markdown",
      "source": [
        "## CUDA"
      ],
      "metadata": {
        "id": "DCw6tELMqP3h"
      }
    },
    {
      "cell_type": "code",
      "source": [
        "# fake how this is done on GPU (many small tasks in parallel)\n",
        "def matmul(grid, a, b, c):\n",
        "  i, j = grid\n",
        "  if i < c.shape[0] and j < c.shape[1]:\n",
        "    tmp = 0.\n",
        "    for k in range(a.shape[1]):\n",
        "      tmp += a[i, k] * b[k, j]\n",
        "    c[i,j] = tmp\n",
        "\n",
        "res = torch.zeros(ar, bc)\n",
        "matmul((0,0), m1, m2, res)\n",
        "res"
      ],
      "metadata": {
        "id": "XW2UpbPOqDg6",
        "colab": {
          "base_uri": "https://localhost:8080/"
        },
        "outputId": "099f2f6b-b9a2-4d28-8f89-0ed9adf489dc"
      },
      "execution_count": null,
      "outputs": [
        {
          "output_type": "execute_result",
          "data": {
            "text/plain": [
              "tensor([[-10.94,   0.00,   0.00,   0.00,   0.00,   0.00,   0.00,   0.00,   0.00,\n",
              "           0.00],\n",
              "        [  0.00,   0.00,   0.00,   0.00,   0.00,   0.00,   0.00,   0.00,   0.00,\n",
              "           0.00],\n",
              "        [  0.00,   0.00,   0.00,   0.00,   0.00,   0.00,   0.00,   0.00,   0.00,\n",
              "           0.00],\n",
              "        [  0.00,   0.00,   0.00,   0.00,   0.00,   0.00,   0.00,   0.00,   0.00,\n",
              "           0.00],\n",
              "        [  0.00,   0.00,   0.00,   0.00,   0.00,   0.00,   0.00,   0.00,   0.00,\n",
              "           0.00]])"
            ]
          },
          "metadata": {},
          "execution_count": 128
        }
      ]
    },
    {
      "cell_type": "code",
      "source": [
        "# apply the matmul operation to all grid elements in matrix\n",
        "def launch_kernel(kernel, grid_x, grid_y, *args, **kwargs):\n",
        "  for i in range(grid_x):\n",
        "    for j in range(grid_y):\n",
        "      kernel((i,j), *args, **kwargs)\n",
        "\n",
        "res = torch.zeros(ar, bc)\n",
        "launch_kernel(matmul, ar, bc, m1, m2, res)\n",
        "res"
      ],
      "metadata": {
        "colab": {
          "base_uri": "https://localhost:8080/"
        },
        "id": "J3dyjC6RaA59",
        "outputId": "e9535206-5cbb-4a08-8ba8-61bbd5a16ad6"
      },
      "execution_count": null,
      "outputs": [
        {
          "output_type": "execute_result",
          "data": {
            "text/plain": [
              "tensor([[-10.94,  -0.68,  -7.00,  -4.01,  -2.09,  -3.36,   3.91,  -3.44, -11.47,\n",
              "          -2.12],\n",
              "        [ 14.54,   6.00,   2.89,  -4.08,   6.59, -14.74,  -9.28,   2.16, -15.28,\n",
              "          -2.68],\n",
              "        [  2.22,  -3.22,  -4.80,  -6.05,  14.17,  -8.98,  -4.79,  -5.44, -20.68,\n",
              "          13.57],\n",
              "        [ -6.71,   8.90,  -7.46,  -7.90,   2.70,  -4.73, -11.03, -12.98,  -6.44,\n",
              "           3.64],\n",
              "        [ -2.44,  -6.40,  -2.40,  -9.04,  11.18,  -5.77,  -8.92,  -3.79,  -8.98,\n",
              "           5.28]])"
            ]
          },
          "metadata": {},
          "execution_count": 129
        }
      ]
    },
    {
      "cell_type": "code",
      "source": [
        "from numba import cuda\n",
        "\n",
        "@cuda.jit\n",
        "def matmul(a,b,c):\n",
        "  i, j = cuda.grid(2)\n",
        "  if i < c.shape[0] and j < c.shape[1]:\n",
        "    tmp = 0.\n",
        "    for k in range(a.shape[1]):\n",
        "      tmp += a[i, k] * b[k, j]\n",
        "    c[i,j] = tmp"
      ],
      "metadata": {
        "id": "Rz0g5Kxsazx4"
      },
      "execution_count": null,
      "outputs": []
    },
    {
      "cell_type": "code",
      "source": [
        "r = np.zeros(tr.shape)\n",
        "\n",
        "r.shape"
      ],
      "metadata": {
        "colab": {
          "base_uri": "https://localhost:8080/"
        },
        "id": "DHfd8i1KbUKa",
        "outputId": "b69674c6-4c94-43c6-afdb-38d36608b5f5"
      },
      "execution_count": null,
      "outputs": [
        {
          "output_type": "execute_result",
          "data": {
            "text/plain": [
              "(50000, 10)"
            ]
          },
          "metadata": {},
          "execution_count": 131
        }
      ]
    },
    {
      "cell_type": "code",
      "source": [
        "m1g, m2g, rg = map(cuda.to_device, (x_train, weights, r))"
      ],
      "metadata": {
        "id": "Mww-hJKwKaBm"
      },
      "execution_count": null,
      "outputs": []
    },
    {
      "cell_type": "code",
      "source": [
        "# for batching calls (boilerplate)\n",
        "TPB = 16\n",
        "rr,rc = r.shape\n",
        "blockspergrid = (math.ceil(rr / TPB), math.ceil(rc / TPB))\n",
        "blockspergrid"
      ],
      "metadata": {
        "colab": {
          "base_uri": "https://localhost:8080/"
        },
        "id": "iK6tQZyEbXs7",
        "outputId": "42fdd1f5-9645-4cb7-f27b-47adee992b35"
      },
      "execution_count": null,
      "outputs": [
        {
          "output_type": "execute_result",
          "data": {
            "text/plain": [
              "(3125, 1)"
            ]
          },
          "metadata": {},
          "execution_count": 133
        }
      ]
    },
    {
      "cell_type": "code",
      "source": [
        "matmul[blockspergrid, (TPB,TPB)](m1g, m2g, rg)\n",
        "r = rg.copy_to_host()"
      ],
      "metadata": {
        "id": "xAH7uA3xbeTz"
      },
      "execution_count": null,
      "outputs": []
    },
    {
      "cell_type": "code",
      "source": [
        "assert test_close(tr, tensor(r, dtype=torch.float))"
      ],
      "metadata": {
        "id": "a2HfkywubpFa"
      },
      "execution_count": null,
      "outputs": []
    },
    {
      "cell_type": "code",
      "source": [
        "result = %timeit -o -n 10 matmul[blockspergrid, (TPB,TPB)](m1g, m2g, rg); r = rg.copy_to_host()\n",
        "full_results.append((\"cuda\", result.average, result.stdev))"
      ],
      "metadata": {
        "colab": {
          "base_uri": "https://localhost:8080/"
        },
        "id": "6gsTptLXbseX",
        "outputId": "503520d1-3d71-4712-8158-74e1c66a9ea6"
      },
      "execution_count": null,
      "outputs": [
        {
          "output_type": "stream",
          "name": "stdout",
          "text": [
            "2.52 ms ± 48.4 µs per loop (mean ± std. dev. of 7 runs, 10 loops each)\n"
          ]
        }
      ]
    },
    {
      "cell_type": "code",
      "source": [
        "m1c, m2c = x_train.cuda(), weights.cuda()\n",
        "%time r = (m1c @ m2c).cpu()"
      ],
      "metadata": {
        "colab": {
          "base_uri": "https://localhost:8080/"
        },
        "id": "E3Lbqsu8fdml",
        "outputId": "9371394c-4c08-4a4d-a9eb-11b6869d13c3"
      },
      "execution_count": null,
      "outputs": [
        {
          "output_type": "stream",
          "name": "stdout",
          "text": [
            "CPU times: user 649 ms, sys: 371 ms, total: 1.02 s\n",
            "Wall time: 1.02 s\n"
          ]
        }
      ]
    },
    {
      "cell_type": "code",
      "source": [
        "result = %timeit -o -n 10 (m1c @ m2c).cpu()\n",
        "full_results.append((\"torch @ (CUDA)\", result.average, result.stdev))"
      ],
      "metadata": {
        "colab": {
          "base_uri": "https://localhost:8080/"
        },
        "id": "s_uPYS6ef3Pk",
        "outputId": "8d33db69-60bb-4f61-efe8-4f110049e44c"
      },
      "execution_count": null,
      "outputs": [
        {
          "output_type": "stream",
          "name": "stdout",
          "text": [
            "871 µs ± 270 µs per loop (mean ± std. dev. of 7 runs, 10 loops each)\n"
          ]
        }
      ]
    },
    {
      "cell_type": "markdown",
      "source": [
        "### Comparing results of full multiplication"
      ],
      "metadata": {
        "id": "q-r5yuOwcWLA"
      }
    },
    {
      "cell_type": "code",
      "source": [
        "full_results"
      ],
      "metadata": {
        "colab": {
          "base_uri": "https://localhost:8080/"
        },
        "id": "Cc81xx-EcC4v",
        "outputId": "50dd2718-43f0-4655-9085-8dcd9642d408"
      },
      "execution_count": null,
      "outputs": [
        {
          "output_type": "execute_result",
          "data": {
            "text/plain": [
              "[('einsum', 0.0049897071428339195, 0.0008976027494807317),\n",
              " ('torch @', 0.004740149657144295, 0.0007569550232938922),\n",
              " ('torch.matmul', 0.004501231628559513, 0.00017313623661204759),\n",
              " ('cuda', 0.002521888371432267, 4.839799057512088e-05),\n",
              " ('torch @ (CUDA)', 0.0008714805285697886, 0.00026957308935307973)]"
            ]
          },
          "metadata": {},
          "execution_count": 139
        }
      ]
    },
    {
      "cell_type": "code",
      "source": [
        "labels = [label for label, _, _ in full_results]\n",
        "times = [avg for _, avg, _ in full_results]\n",
        "stdev = [stdev for _, _, stdev in full_results]\n",
        "xs = np.arange(len(labels))\n",
        "plt.bar(xs, times, yerr=stdev)\n",
        "plt.xticks(xs, labels, rotation=45)\n",
        "plt.ylabel(\"response time\")\n",
        "plt.show()"
      ],
      "metadata": {
        "colab": {
          "base_uri": "https://localhost:8080/",
          "height": 503
        },
        "id": "0kCTmQ2CePp5",
        "outputId": "942cf1e2-94af-4c84-e441-51926ea5c821"
      },
      "execution_count": null,
      "outputs": [
        {
          "output_type": "display_data",
          "data": {
            "text/plain": [
              "<Figure size 640x480 with 1 Axes>"
            ],
            "image/png": "[encoded data removed]"
          },
          "metadata": {}
        }
      ]
    },
    {
      "cell_type": "code",
      "source": [],
      "metadata": {
        "id": "rIet0TFtevmH"
      },
      "execution_count": null,
      "outputs": []
    }
  ],
  "metadata": {
    "kernelspec": {
      "display_name": "Python 3",
      "name": "python3"
    },
    "colab": {
      "provenance": [],
      "gpuType": "A100",
      "include_colab_link": true
    },
    "accelerator": "GPU"
  },
  "nbformat": 4,
  "nbformat_minor": 0
}